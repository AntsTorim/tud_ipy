{
 "cells": [
  {
   "cell_type": "code",
   "execution_count": 22,
   "metadata": {},
   "outputs": [],
   "source": [
    "from sortseriate import Minus2DSeriation\n",
    "from kernel_fca_oo import LexiSystem\n",
    "import pandas as pd"
   ]
  },
  {
   "cell_type": "code",
   "execution_count": 23,
   "metadata": {},
   "outputs": [],
   "source": [
    "KATALOOG = \"..\\\\\"\n",
    "fn = \"system1_csv.csv\"\n",
    "df=pd.read_csv(KATALOOG+fn, sep=',', index_col=0, encoding='latin1')"
   ]
  },
  {
   "cell_type": "code",
   "execution_count": 24,
   "metadata": {},
   "outputs": [],
   "source": [
    "ls = LexiSystem(df, transform=\"CL\", full_lexi=False)\n",
    "ccc, uc =  ls.conceptchaincover(uncovered=0.1, max_cc=20, min_cost=True)"
   ]
  },
  {
   "cell_type": "code",
   "execution_count": 25,
   "metadata": {},
   "outputs": [
    {
     "data": {
      "text/plain": [
       "1"
      ]
     },
     "execution_count": 25,
     "metadata": {},
     "output_type": "execute_result"
    }
   ],
   "source": [
    "len(ccc)"
   ]
  },
  {
   "cell_type": "code",
   "execution_count": 26,
   "metadata": {},
   "outputs": [
    {
     "data": {
      "text/plain": [
       "[0.1015625]"
      ]
     },
     "execution_count": 26,
     "metadata": {},
     "output_type": "execute_result"
    }
   ],
   "source": [
    "uc"
   ]
  },
  {
   "cell_type": "code",
   "execution_count": 27,
   "metadata": {},
   "outputs": [
    {
     "name": "stdout",
     "output_type": "stream",
     "text": [
      "({'Makse'}, {'Administraatorid', 'Sekretärid', 'Juhataja', 'Raamatupidaja', 'Kassiirid', 'Töötaja', 'Müügijuht', 'Arendajad'})\n",
      "\n",
      "({'Makse', 'Tellimuse toode', 'Kaup', 'Tellimus'}, {'Administraatorid', 'Sekretärid', 'Juhataja', 'Kassiirid', 'Töötaja', 'Müügijuht', 'Arendajad'})\n",
      "\n",
      "({'Makse', 'Klient', 'Kaup', 'Tellimus', 'Väljaku avamisaeg', 'Hinnatsoon', 'Broneering', 'Müügiaruanne', 'Tellimuse toode', 'Klubiliikmelisus', 'Kliendigrupp', 'Soodushind', 'Avamisaeg'}, {'Administraatorid', 'Sekretärid', 'Juhataja', 'Kassiirid', 'Töötaja', 'Arendajad'})\n",
      "\n",
      "({'Makse', 'Klient', 'Kaup', 'Tellimus', 'Väljaku avamisaeg', 'Vahetus', 'Administraator', 'Broneering', 'Hinnatsoon', 'Müügiaruanne', 'Tellimuse toode', 'Klubiliikmelisus', 'Kliendigrupp', 'Soodushind', 'Avamisaeg'}, {'Administraatorid', 'Sekretärid', 'Juhataja', 'Kassiirid', 'Arendajad'})\n",
      "\n",
      "({'Makse', 'Klient', 'Kaup', 'Eriaeg', 'Väljaku avamisaeg', 'Tellimus', 'Seadistus', 'Administraator', 'Broneering', 'Hinnatsoon', 'Asenduskonto ülekanne', 'Vahetus', 'Kaupade kategooria', 'Müügiaruanne', 'Tellimuse toode', 'Klubiliikmelisus', 'Kliendigrupp', 'Soodushind', 'Avamisaeg'}, {'Juhataja', 'Administraatorid', 'Arendajad', 'Kassiirid'})\n",
      "\n",
      "({'Seadistus', 'Eriaeg', 'Väljaku avamisaeg', 'Tellimus', 'Tellimuse toode', 'Avamisaeg', 'Vahetus', 'Hinnatsoon', 'Makse', 'Klient', 'Kaup', 'Tegevuste ajalugu', 'Administraator', 'Broneering', 'Kaupade kategooria', 'Klubiliikmelisus', 'Soodushind', 'Administraatorite grupp', 'Asenduskonto ülekanne', 'Müügiaruanne', 'Kliendigrupp'}, {'Juhataja', 'Administraatorid', 'Arendajad'})\n",
      "\n",
      "Uncovered: 0.1015625 \n",
      "\n",
      "\n"
     ]
    }
   ],
   "source": [
    "for u, cc in zip(uc, ccc):\n",
    "    for c in cc:\n",
    "        print(c)\n",
    "        print()\n",
    "    print(\"Uncovered:\", u, \"\\n\\n\")"
   ]
  }
 ],
 "metadata": {
  "kernelspec": {
   "display_name": "Python 3",
   "language": "python",
   "name": "python3"
  },
  "language_info": {
   "codemirror_mode": {
    "name": "ipython",
    "version": 3
   },
   "file_extension": ".py",
   "mimetype": "text/x-python",
   "name": "python",
   "nbconvert_exporter": "python",
   "pygments_lexer": "ipython3",
   "version": "3.6.10"
  }
 },
 "nbformat": 4,
 "nbformat_minor": 4
}
