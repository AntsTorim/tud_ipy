{
 "cells": [
  {
   "cell_type": "code",
   "execution_count": 1,
   "metadata": {},
   "outputs": [],
   "source": [
    "import pandas as pd\n",
    "import numpy as np\n",
    "import timeit\n",
    "from kernel_fca_oo import LexiSystem, FreqLexiSeriateSystem, ConfLexiSeriateSystem, FCASystemDF, KMeansSystem\n",
    "from IPython.display import display, HTML"
   ]
  },
  {
   "cell_type": "code",
   "execution_count": 2,
   "metadata": {},
   "outputs": [
    {
     "data": {
      "text/plain": [
       "3"
      ]
     },
     "execution_count": 2,
     "metadata": {},
     "output_type": "execute_result"
    }
   ],
   "source": [
    "df = pd.DataFrame({'a': [0,1,1], 'b': [0,0,1]})\n",
    "df.sum().sum()"
   ]
  },
  {
   "cell_type": "code",
   "execution_count": 3,
   "metadata": {},
   "outputs": [],
   "source": [
    "\n",
    "#data = pd.read_csv(KATALOOG+\"cmp-bin-grocery.csv\", sep=',', index_col=0, encoding='latin1')"
   ]
  },
  {
   "cell_type": "code",
   "execution_count": 4,
   "metadata": {},
   "outputs": [
    {
     "name": "stdout",
     "output_type": "stream",
     "text": [
      "\n",
      "File: ds1.csv\n"
     ]
    },
    {
     "ename": "AttributeError",
     "evalue": "'LexiSystem' object has no attribute 'factory'",
     "output_type": "error",
     "traceback": [
      "\u001b[1;31m---------------------------------------------------------------------------\u001b[0m",
      "\u001b[1;31mAttributeError\u001b[0m                            Traceback (most recent call last)",
      "\u001b[1;32m<ipython-input-4-26e0891b1156>\u001b[0m in \u001b[0;36m<module>\u001b[1;34m\u001b[0m\n\u001b[0;32m     36\u001b[0m             \u001b[0m_\u001b[0m\u001b[1;33m,\u001b[0m \u001b[0muc\u001b[0m \u001b[1;33m=\u001b[0m  \u001b[0msystem\u001b[0m\u001b[1;33m.\u001b[0m\u001b[0mconceptchaincover\u001b[0m\u001b[1;33m(\u001b[0m\u001b[0mmin_cost\u001b[0m\u001b[1;33m=\u001b[0m\u001b[1;32mTrue\u001b[0m\u001b[1;33m)\u001b[0m\u001b[1;33m\u001b[0m\u001b[1;33m\u001b[0m\u001b[0m\n\u001b[0;32m     37\u001b[0m         \u001b[1;32melse\u001b[0m\u001b[1;33m:\u001b[0m\u001b[1;33m\u001b[0m\u001b[1;33m\u001b[0m\u001b[0m\n\u001b[1;32m---> 38\u001b[1;33m             \u001b[0m_\u001b[0m\u001b[1;33m,\u001b[0m \u001b[0muc\u001b[0m \u001b[1;33m=\u001b[0m  \u001b[0msystem\u001b[0m\u001b[1;33m.\u001b[0m\u001b[0mconceptchaincover_v2\u001b[0m\u001b[1;33m(\u001b[0m\u001b[0muncovered\u001b[0m\u001b[1;33m=\u001b[0m\u001b[1;36m0.1\u001b[0m\u001b[1;33m,\u001b[0m \u001b[0mmax_cc\u001b[0m\u001b[1;33m=\u001b[0m\u001b[1;36m20\u001b[0m\u001b[1;33m)\u001b[0m\u001b[1;33m\u001b[0m\u001b[1;33m\u001b[0m\u001b[0m\n\u001b[0m\u001b[0;32m     39\u001b[0m         \u001b[0mtime\u001b[0m \u001b[1;33m=\u001b[0m \u001b[0mtimeit\u001b[0m\u001b[1;33m.\u001b[0m\u001b[0mdefault_timer\u001b[0m\u001b[1;33m(\u001b[0m\u001b[1;33m)\u001b[0m \u001b[1;33m-\u001b[0m \u001b[0mstart\u001b[0m\u001b[1;33m\u001b[0m\u001b[1;33m\u001b[0m\u001b[0m\n\u001b[0;32m     40\u001b[0m         \u001b[1;32mif\u001b[0m \u001b[0mlen\u001b[0m\u001b[1;33m(\u001b[0m\u001b[0muc\u001b[0m\u001b[1;33m)\u001b[0m \u001b[1;33m<\u001b[0m \u001b[0mlen\u001b[0m\u001b[1;33m(\u001b[0m\u001b[0mc_i\u001b[0m\u001b[1;33m)\u001b[0m\u001b[1;33m:\u001b[0m\u001b[1;33m\u001b[0m\u001b[1;33m\u001b[0m\u001b[0m\n",
      "\u001b[1;32mE:\\tty\\tudengid\\tud_ipy\\kernel_fca_oo.py\u001b[0m in \u001b[0;36mconceptchaincover_v2\u001b[1;34m(self, uncovered, max_cc)\u001b[0m\n\u001b[0;32m    243\u001b[0m             \u001b[0muncovered_list\u001b[0m \u001b[1;33m=\u001b[0m \u001b[1;33m[\u001b[0m\u001b[1;33m]\u001b[0m\u001b[1;33m\u001b[0m\u001b[1;33m\u001b[0m\u001b[0m\n\u001b[0;32m    244\u001b[0m             \u001b[1;32mwhile\u001b[0m \u001b[1;32mTrue\u001b[0m\u001b[1;33m:\u001b[0m\u001b[1;33m\u001b[0m\u001b[1;33m\u001b[0m\u001b[0m\n\u001b[1;32m--> 245\u001b[1;33m                 \u001b[0mks\u001b[0m \u001b[1;33m=\u001b[0m \u001b[0mself\u001b[0m\u001b[1;33m.\u001b[0m\u001b[0mfactory\u001b[0m\u001b[1;33m(\u001b[0m\u001b[0mconnected\u001b[0m\u001b[1;33m)\u001b[0m\u001b[1;33m\u001b[0m\u001b[1;33m\u001b[0m\u001b[0m\n\u001b[0m\u001b[0;32m    246\u001b[0m                 \u001b[0mcc\u001b[0m \u001b[1;33m=\u001b[0m \u001b[0mks\u001b[0m\u001b[1;33m.\u001b[0m\u001b[0mget_conceptchain\u001b[0m\u001b[1;33m(\u001b[0m\u001b[1;33m)\u001b[0m\u001b[1;33m\u001b[0m\u001b[1;33m\u001b[0m\u001b[0m\n\u001b[0;32m    247\u001b[0m                 \u001b[0mresult\u001b[0m\u001b[1;33m.\u001b[0m\u001b[0mappend\u001b[0m\u001b[1;33m(\u001b[0m\u001b[0mcc\u001b[0m\u001b[1;33m)\u001b[0m\u001b[1;33m\u001b[0m\u001b[1;33m\u001b[0m\u001b[0m\n",
      "\u001b[1;31mAttributeError\u001b[0m: 'LexiSystem' object has no attribute 'factory'"
     ]
    }
   ],
   "source": [
    "c_i = range(0, 12)\n",
    "KATALOOG = \"..\\\\\"\n",
    "\n",
    "fns = [\"ds1.csv\",\n",
    "       \"cmp-bin-zoo.csv\",\n",
    "       #\"cmp-bin-priv2.csv\",\n",
    "       \"cmp-bin-iapb09.csv\",\n",
    "       \"cmp-bin-STT_majandus.csv\",\n",
    "       \"cmp-bin-TTTH_kardlaga.csv\",\n",
    "       \"cmp-bin-grocery.csv\", \n",
    "       \"cmp-bin-ecommerce-sampled.csv\", \n",
    "       \"cmp-bin-house-votes-84.csv\",\n",
    "       \"cmp-bin-instacart-600-sample.csv\",\n",
    "       \"cmp-bin-student-gradings.csv\",\n",
    "       \"cmp-bin-taro-1.csv\",\n",
    "       \"cmp-bin-taro-2.csv\",\n",
    "       \"cmp-bin-taro-3.csv\",\n",
    "       \"cmp-bin-taro-4.csv\"]\n",
    "\n",
    "for fn in fns:\n",
    "    print(\"\\nFile:\", fn)\n",
    "    data = pd.read_csv(KATALOOG+fn, sep=',', index_col=0, encoding='latin1')\n",
    "    result_df = pd.DataFrame(columns = [\"time\"] + [\"c\"+str(i) for i in c_i])\n",
    "    #systems = {\"MS\": FCASystemDF(data), \"FL\": FreqLexiSeriateSystem(data)}\n",
    "    systems = {\"CLF\": LexiSystem(data, transform=\"CL\"),\n",
    "               \"FLF\": LexiSystem(data, transform=\"FL\"),\n",
    "               \"CL\": LexiSystem(data, transform=\"CL\", full_lexi=False),\n",
    "               \"FL\": LexiSystem(data, transform=\"FL\", full_lexi=False),\n",
    "               \"CLS\": ConfLexiSeriateSystem(data), \n",
    "               \"FLS\": FreqLexiSeriateSystem(data)}\n",
    "    ones = data.sum().sum()\n",
    "    for s_name, system in systems.items():\n",
    "        start = timeit.default_timer()\n",
    "        if s_name in (\"CL\", \"FL\", \"CLF\", \"FLF\"):\n",
    "            #_, uc =  system.conceptchaincover(uncovered=0.1, max_cc=20)\n",
    "            _, uc =  system.conceptchaincover(min_cost=True)\n",
    "        else:\n",
    "            _, uc =  system.conceptchaincover_v2(uncovered=0.1, max_cc=20)\n",
    "        time = timeit.default_timer() - start\n",
    "        if len(uc) < len(c_i):\n",
    "            uc += [np.nan] * (len(c_i) - len(uc))  \n",
    "        result_df.loc[s_name] = [time] + uc[:len(c_i)]\n",
    "    #[uc for (_, uc) in zip(system.conceptchaincover())]\n",
    "    display(result_df)\n",
    "    result_df.to_csv(path_or_buf=KATALOOG+\"res-\"+fn)"
   ]
  },
  {
   "cell_type": "code",
   "execution_count": null,
   "metadata": {},
   "outputs": [],
   "source": [
    "4000*0.625"
   ]
  }
 ],
 "metadata": {
  "kernelspec": {
   "display_name": "Python 3",
   "language": "python",
   "name": "python3"
  },
  "language_info": {
   "codemirror_mode": {
    "name": "ipython",
    "version": 3
   },
   "file_extension": ".py",
   "mimetype": "text/x-python",
   "name": "python",
   "nbconvert_exporter": "python",
   "pygments_lexer": "ipython3",
   "version": "3.6.10"
  }
 },
 "nbformat": 4,
 "nbformat_minor": 2
}
