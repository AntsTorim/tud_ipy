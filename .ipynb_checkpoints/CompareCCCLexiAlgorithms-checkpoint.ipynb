{
 "cells": [
  {
   "cell_type": "code",
   "execution_count": 4,
   "metadata": {
    "scrolled": true
   },
   "outputs": [
    {
     "ename": "ImportError",
     "evalue": "cannot import name 'LexiSeriateSystem'",
     "output_type": "error",
     "traceback": [
      "\u001b[1;31m---------------------------------------------------------------------------\u001b[0m",
      "\u001b[1;31mImportError\u001b[0m                               Traceback (most recent call last)",
      "\u001b[1;32m<ipython-input-4-a8f92b7fe44f>\u001b[0m in \u001b[0;36m<module>\u001b[1;34m\u001b[0m\n\u001b[0;32m      2\u001b[0m \u001b[1;32mimport\u001b[0m \u001b[0mnumpy\u001b[0m \u001b[1;32mas\u001b[0m \u001b[0mnp\u001b[0m\u001b[1;33m\u001b[0m\u001b[1;33m\u001b[0m\u001b[0m\n\u001b[0;32m      3\u001b[0m \u001b[1;32mimport\u001b[0m \u001b[0mtimeit\u001b[0m\u001b[1;33m\u001b[0m\u001b[1;33m\u001b[0m\u001b[0m\n\u001b[1;32m----> 4\u001b[1;33m \u001b[1;32mfrom\u001b[0m \u001b[0mkernel_fca_oo\u001b[0m \u001b[1;32mimport\u001b[0m \u001b[0mLexiSeriateSystem\u001b[0m\u001b[1;33m\u001b[0m\u001b[1;33m\u001b[0m\u001b[0m\n\u001b[0m\u001b[0;32m      5\u001b[0m \u001b[1;32mfrom\u001b[0m \u001b[0mIPython\u001b[0m\u001b[1;33m.\u001b[0m\u001b[0mdisplay\u001b[0m \u001b[1;32mimport\u001b[0m \u001b[0mdisplay\u001b[0m\u001b[1;33m,\u001b[0m \u001b[0mHTML\u001b[0m\u001b[1;33m\u001b[0m\u001b[1;33m\u001b[0m\u001b[0m\n",
      "\u001b[1;31mImportError\u001b[0m: cannot import name 'LexiSeriateSystem'"
     ]
    }
   ],
   "source": [
    "import pandas as pd\n",
    "import numpy as np\n",
    "import timeit\n",
    "from kernel_fca_oo import LexiSystem\n",
    "from IPython.display import display, HTML"
   ]
  },
  {
   "cell_type": "code",
   "execution_count": null,
   "metadata": {},
   "outputs": [],
   "source": [
    "\n",
    "#data = pd.read_csv(KATALOOG+\"cmp-bin-grocery.csv\", sep=',', index_col=0, encoding='latin1')"
   ]
  },
  {
   "cell_type": "code",
   "execution_count": null,
   "metadata": {},
   "outputs": [],
   "source": [
    "c_i = range(0, 12)\n",
    "KATALOOG = \"..\\\\\"\n",
    "\n",
    "fns = [\"cmp-bin-iapb09.csv\",\n",
    "       \"cmp-bin-STT_majandus.csv\",\n",
    "       \"cmp-bin-TTTH_kardlaga.csv\",\n",
    "       \"cmp-bin-grocery.csv\", \n",
    "       \"cmp-bin-ecommerce-sampled.csv\", \n",
    "       \"cmp-bin-house-votes-84.csv\",\n",
    "       \"cmp-bin-instacart-600-sample.csv\",\n",
    "       \"cmp-bin-student-gradings.csv\"]\n",
    "\n",
    "for fn in fns:\n",
    "    print(\"\\nFile:\", fn)\n",
    "    data = pd.read_csv(KATALOOG+fn, sep=',', index_col=0, encoding='latin1')\n",
    "    result_df = pd.DataFrame(columns = [\"time\"] + [\"c\"+str(i) for i in c_i])\n",
    "    #systems = {\"MS\": FCASystemDF(data), \"FL\": FreqLexiSeriateSystem(data)}\n",
    "    systems = {#\"MS\": FCASystemDF(data), \n",
    "        \"CL\": LexiSystem(data), \n",
    "        \"FL\": LexiSystem(data, transform=\"FL\"),\n",
    "        \"CLr\": LexiSystem(data, refill=True),\n",
    "        \"FLr\": LexiSystem(data, transform=\"FL\", refill=True)}\n",
    "    #for i in range(2, 13, 2):\n",
    "    #    systems[\"KM\"+str(i)] = KMeansSystem(data, n_chains=i)\n",
    "    for s_name, system in systems.items():\n",
    "        start = timeit.default_timer()\n",
    "        _, uc =  system.conceptchaincover(max_cc=12)\n",
    "        time = timeit.default_timer() - start\n",
    "        if len(uc) < len(c_i):\n",
    "            uc += [np.nan] * (len(c_i) - len(uc))  \n",
    "        result_df.loc[s_name] = [time] + uc[:len(c_i)]\n",
    "    #[uc for (_, uc) in zip(system.conceptchaincover())]\n",
    "    display(result_df)\n",
    "    result_df.to_csv(path_or_buf=KATALOOG+\"res-\"+fn)"
   ]
  },
  {
   "cell_type": "code",
   "execution_count": null,
   "metadata": {},
   "outputs": [],
   "source": [
    "4000*0.625"
   ]
  }
 ],
 "metadata": {
  "kernelspec": {
   "display_name": "Python 3",
   "language": "python",
   "name": "python3"
  },
  "language_info": {
   "codemirror_mode": {
    "name": "ipython",
    "version": 3
   },
   "file_extension": ".py",
   "mimetype": "text/x-python",
   "name": "python",
   "nbconvert_exporter": "python",
   "pygments_lexer": "ipython3",
   "version": "3.6.8"
  }
 },
 "nbformat": 4,
 "nbformat_minor": 2
}
