{
 "cells": [
  {
   "cell_type": "code",
   "execution_count": 1,
   "metadata": {
    "scrolled": true
   },
   "outputs": [],
   "source": [
    "import pandas as pd\n",
    "import numpy as np\n",
    "import timeit\n",
    "from kernel_fca_oo import LexiSystem\n",
    "from IPython.display import display, HTML\n",
    "import matplotlib.pyplot as plt"
   ]
  },
  {
   "cell_type": "code",
   "execution_count": 2,
   "metadata": {},
   "outputs": [],
   "source": [
    "\n",
    "#data = pd.read_csv(KATALOOG+\"cmp-bin-grocery.csv\", sep=',', index_col=0, encoding='latin1')"
   ]
  },
  {
   "cell_type": "code",
   "execution_count": 3,
   "metadata": {},
   "outputs": [
    {
     "name": "stdout",
     "output_type": "stream",
     "text": [
      "\n",
      "File: cmp-bin-zoo.csv\n"
     ]
    },
    {
     "ename": "AttributeError",
     "evalue": "'LexiSystem' object has no attribute 'factory'",
     "output_type": "error",
     "traceback": [
      "\u001b[1;31m---------------------------------------------------------------------------\u001b[0m",
      "\u001b[1;31mAttributeError\u001b[0m                            Traceback (most recent call last)",
      "\u001b[1;32m<ipython-input-3-c6e64dc525f9>\u001b[0m in \u001b[0;36m<module>\u001b[1;34m\u001b[0m\n\u001b[0;32m     27\u001b[0m     \u001b[1;32mfor\u001b[0m \u001b[0ms_name\u001b[0m\u001b[1;33m,\u001b[0m \u001b[0msystem\u001b[0m \u001b[1;32min\u001b[0m \u001b[0msystems\u001b[0m\u001b[1;33m.\u001b[0m\u001b[0mitems\u001b[0m\u001b[1;33m(\u001b[0m\u001b[1;33m)\u001b[0m\u001b[1;33m:\u001b[0m\u001b[1;33m\u001b[0m\u001b[1;33m\u001b[0m\u001b[0m\n\u001b[0;32m     28\u001b[0m         \u001b[0mstart\u001b[0m \u001b[1;33m=\u001b[0m \u001b[0mtimeit\u001b[0m\u001b[1;33m.\u001b[0m\u001b[0mdefault_timer\u001b[0m\u001b[1;33m(\u001b[0m\u001b[1;33m)\u001b[0m\u001b[1;33m\u001b[0m\u001b[1;33m\u001b[0m\u001b[0m\n\u001b[1;32m---> 29\u001b[1;33m         \u001b[0m_\u001b[0m\u001b[1;33m,\u001b[0m \u001b[0muc\u001b[0m \u001b[1;33m=\u001b[0m  \u001b[0msystem\u001b[0m\u001b[1;33m.\u001b[0m\u001b[0mconceptchaincover_v2\u001b[0m\u001b[1;33m(\u001b[0m\u001b[0muncovered\u001b[0m\u001b[1;33m=\u001b[0m\u001b[1;36m0.0\u001b[0m\u001b[1;33m,\u001b[0m \u001b[0mmax_cc\u001b[0m\u001b[1;33m=\u001b[0m\u001b[1;36m12\u001b[0m\u001b[1;33m)\u001b[0m\u001b[1;33m\u001b[0m\u001b[1;33m\u001b[0m\u001b[0m\n\u001b[0m\u001b[0;32m     30\u001b[0m         \u001b[0mtime\u001b[0m \u001b[1;33m=\u001b[0m \u001b[0mtimeit\u001b[0m\u001b[1;33m.\u001b[0m\u001b[0mdefault_timer\u001b[0m\u001b[1;33m(\u001b[0m\u001b[1;33m)\u001b[0m \u001b[1;33m-\u001b[0m \u001b[0mstart\u001b[0m\u001b[1;33m\u001b[0m\u001b[1;33m\u001b[0m\u001b[0m\n\u001b[0;32m     31\u001b[0m         \u001b[1;32mif\u001b[0m \u001b[0mlen\u001b[0m\u001b[1;33m(\u001b[0m\u001b[0muc\u001b[0m\u001b[1;33m)\u001b[0m \u001b[1;33m<\u001b[0m \u001b[0mlen\u001b[0m\u001b[1;33m(\u001b[0m\u001b[0mc_i\u001b[0m\u001b[1;33m)\u001b[0m\u001b[1;33m:\u001b[0m\u001b[1;33m\u001b[0m\u001b[1;33m\u001b[0m\u001b[0m\n",
      "\u001b[1;32mE:\\tty\\tudengid\\tud_ipy\\kernel_fca_oo.py\u001b[0m in \u001b[0;36mconceptchaincover_v2\u001b[1;34m(self, uncovered, max_cc)\u001b[0m\n\u001b[0;32m    243\u001b[0m             \u001b[0muncovered_list\u001b[0m \u001b[1;33m=\u001b[0m \u001b[1;33m[\u001b[0m\u001b[1;33m]\u001b[0m\u001b[1;33m\u001b[0m\u001b[1;33m\u001b[0m\u001b[0m\n\u001b[0;32m    244\u001b[0m             \u001b[1;32mwhile\u001b[0m \u001b[1;32mTrue\u001b[0m\u001b[1;33m:\u001b[0m\u001b[1;33m\u001b[0m\u001b[1;33m\u001b[0m\u001b[0m\n\u001b[1;32m--> 245\u001b[1;33m                 \u001b[0mks\u001b[0m \u001b[1;33m=\u001b[0m \u001b[0mself\u001b[0m\u001b[1;33m.\u001b[0m\u001b[0mfactory\u001b[0m\u001b[1;33m(\u001b[0m\u001b[0mconnected\u001b[0m\u001b[1;33m)\u001b[0m\u001b[1;33m\u001b[0m\u001b[1;33m\u001b[0m\u001b[0m\n\u001b[0m\u001b[0;32m    246\u001b[0m                 \u001b[0mcc\u001b[0m \u001b[1;33m=\u001b[0m \u001b[0mks\u001b[0m\u001b[1;33m.\u001b[0m\u001b[0mget_conceptchain\u001b[0m\u001b[1;33m(\u001b[0m\u001b[1;33m)\u001b[0m\u001b[1;33m\u001b[0m\u001b[1;33m\u001b[0m\u001b[0m\n\u001b[0;32m    247\u001b[0m                 \u001b[0mresult\u001b[0m\u001b[1;33m.\u001b[0m\u001b[0mappend\u001b[0m\u001b[1;33m(\u001b[0m\u001b[0mcc\u001b[0m\u001b[1;33m)\u001b[0m\u001b[1;33m\u001b[0m\u001b[1;33m\u001b[0m\u001b[0m\n",
      "\u001b[1;31mAttributeError\u001b[0m: 'LexiSystem' object has no attribute 'factory'"
     ]
    }
   ],
   "source": [
    "c_i = range(0, 12)\n",
    "KATALOOG = \"..\\\\\"\n",
    "\n",
    "fns = [\"cmp-bin-zoo.csv\",\n",
    "       \"cmp-bin-iapb09.csv\",\n",
    "       \"cmp-bin-STT_majandus.csv\",\n",
    "       \"cmp-bin-TTTH_kardlaga.csv\",\n",
    "       \"cmp-bin-grocery.csv\", \n",
    "       \"cmp-bin-ecommerce-sampled.csv\", \n",
    "       \"cmp-bin-house-votes-84.csv\",\n",
    "       \"cmp-bin-instacart-600-sample.csv\",\n",
    "       \"cmp-bin-student-gradings.csv\"]\n",
    "\n",
    "for fn in fns:\n",
    "    print(\"\\nFile:\", fn)\n",
    "        \n",
    "    data = pd.read_csv(KATALOOG+fn, sep=',', index_col=0, encoding='latin1')\n",
    "    result_df = pd.DataFrame(columns = [\"time\"] + [\"c\"+str(i) for i in c_i])\n",
    "    #systems = {\"MS\": FCASystemDF(data), \"FL\": FreqLexiSeriateSystem(data)}\n",
    "    systems = {#\"MS\": FCASystemDF(data), \n",
    "        \"CL\": LexiSystem(data), \n",
    "        \"FL\": LexiSystem(data, transform=\"FL\"),\n",
    "        \"CLr\": LexiSystem(data, refill=True),\n",
    "        \"FLr\": LexiSystem(data, transform=\"FL\", refill=True)}\n",
    "    #for i in range(2, 13, 2):\n",
    "    #    systems[\"KM\"+str(i)] = KMeansSystem(data, n_chains=i)\n",
    "    for s_name, system in systems.items():\n",
    "        start = timeit.default_timer()\n",
    "        _, uc =  system.conceptchaincover(uncovered=0.0, max_cc=12)\n",
    "        time = timeit.default_timer() - start\n",
    "        if len(uc) < len(c_i):\n",
    "            uc += [np.nan] * (len(c_i) - len(uc))  \n",
    "        result_df.loc[s_name] = [time] + uc[:len(c_i)]\n",
    "    #[uc for (_, uc) in zip(system.conceptchaincover())]\n",
    "    display(result_df)\n",
    "    result_df.to_csv(path_or_buf=KATALOOG+\"res-\"+fn)"
   ]
  },
  {
   "cell_type": "code",
   "execution_count": null,
   "metadata": {},
   "outputs": [],
   "source": [
    "# MEDES article plots\n",
    "KATALOOG = \"..\\\\\"\n",
    "\n",
    "fns = [\"cmp-bin-zoo.csv\",\n",
    "       \"cmp-bin-house-votes-84.csv\",\n",
    "       \"cmp-bin-iapb09.csv\",\n",
    "       \"priv2.csv\"\n",
    "       ]\n",
    "for fn in fns:\n",
    "    print(\"\\nFile:\", fn)\n",
    "    data = pd.read_csv(KATALOOG+fn, sep=',', index_col=0, encoding='latin1')\n",
    "    systems = {#\"MS\": FCASystemDF(data), \n",
    "        \"FL\": LexiSystem(data, transform=\"FL\"),\n",
    "        \"CLr\": LexiSystem(data, refill=True)}\n",
    "\n",
    "    for mode, (s_name, system) in zip([\"g^--\", \"bs-\"], systems.items()):\n",
    "        plt.xlabel(\"Nr. of concept chains\")\n",
    "        plt.xticks(cc_nrs)\n",
    "        _, uc =  system.conceptchaincover(uncovered=0.0, max_cc=12)\n",
    "        uc = [1.0] + uc\n",
    "        #if len(uc) < len(cc_nrs):\n",
    "        #    uc += [0.0] * (len(cc_nrs) - len(uc)) \n",
    "        \n",
    "        cc_nrs = range(len(uc))\n",
    "        print(cc_nrs, uc, mode)\n",
    "        plt.xticks(cc_nrs)\n",
    "        plt.plot(cc_nrs, uc, mode)\n",
    "    plt.legend(systems)\n",
    "    plt.show()\n",
    "        \n",
    "    \n",
    "    "
   ]
  },
  {
   "cell_type": "code",
   "execution_count": null,
   "metadata": {},
   "outputs": [],
   "source": [
    "4000*0.625"
   ]
  },
  {
   "cell_type": "code",
   "execution_count": null,
   "metadata": {},
   "outputs": [],
   "source": []
  }
 ],
 "metadata": {
  "kernelspec": {
   "display_name": "Python 3",
   "language": "python",
   "name": "python3"
  },
  "language_info": {
   "codemirror_mode": {
    "name": "ipython",
    "version": 3
   },
   "file_extension": ".py",
   "mimetype": "text/x-python",
   "name": "python",
   "nbconvert_exporter": "python",
   "pygments_lexer": "ipython3",
   "version": "3.6.8"
  }
 },
 "nbformat": 4,
 "nbformat_minor": 2
}
