{
 "cells": [
  {
   "cell_type": "code",
   "execution_count": 6,
   "metadata": {},
   "outputs": [
    {
     "name": "stdout",
     "output_type": "stream",
     "text": [
      "cmp-bin-zoo.csv 0.43564356435643564\n",
      "cmp-bin-iapb09.csv 0.4694462354036822\n",
      "cmp-bin-STT_majandus.csv 0.04170162643603976\n",
      "cmp-bin-TTTH_kardlaga.csv 0.047446133128126206\n",
      "cmp-bin-grocery.csv 0.05494949494949495\n",
      "cmp-bin-ecommerce-sampled.csv 0.028458049886621314\n",
      "cmp-bin-house-votes-84.csv 0.49246487867177524\n",
      "cmp-bin-instacart-600-sample.csv 0.05907960199004975\n",
      "cmp-bin-student-gradings.csv 0.5262370540851553\n"
     ]
    }
   ],
   "source": [
    "import pandas as pd\n",
    "import numpy as np\n",
    "import timeit\n",
    "from kernel_fca_oo import LexiSystem\n",
    "from IPython.display import display, HTML\n",
    "import matplotlib.pyplot as plt\n",
    "\n",
    "c_i = range(0, 12)\n",
    "KATALOOG = \"..\\\\\"\n",
    "\n",
    "fns = [\"cmp-bin-zoo.csv\",\n",
    "       \"cmp-bin-iapb09.csv\",\n",
    "       \"cmp-bin-STT_majandus.csv\",\n",
    "       \"cmp-bin-TTTH_kardlaga.csv\",\n",
    "       \"cmp-bin-grocery.csv\", \n",
    "       \"cmp-bin-ecommerce-sampled.csv\", \n",
    "       \"cmp-bin-house-votes-84.csv\",\n",
    "       \"cmp-bin-instacart-600-sample.csv\",\n",
    "       \"cmp-bin-student-gradings.csv\"]\n",
    "\n",
    "for fn in fns:\n",
    "    #print(\"\\nFile:\", fn)\n",
    "        \n",
    "    data = pd.read_csv(KATALOOG+fn, sep=',', index_col=0, encoding='latin1')\n",
    "    print(fn, data.values.mean())"
   ]
  }
 ],
 "metadata": {
  "kernelspec": {
   "display_name": "Python 3",
   "language": "python",
   "name": "python3"
  },
  "language_info": {
   "codemirror_mode": {
    "name": "ipython",
    "version": 3
   },
   "file_extension": ".py",
   "mimetype": "text/x-python",
   "name": "python",
   "nbconvert_exporter": "python",
   "pygments_lexer": "ipython3",
   "version": "3.6.10"
  }
 },
 "nbformat": 4,
 "nbformat_minor": 2
}
